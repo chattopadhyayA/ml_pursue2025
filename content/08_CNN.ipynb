{
 "cells": [
  {
   "cell_type": "markdown",
   "id": "0bc22bf7",
   "metadata": {},
   "source": [
    "# Convolutional Neural Networks\n",
    "\n",
    "<a href=\"https://colab.research.google.com/github/chattopadhyayA/ml_pursue2025/blob/master/content/08_CNN.ipynb\" target=\"_blank\">\n",
    "  <img src=\"https://colab.research.google.com/assets/colab-badge.svg\" alt=\"Open In Colab\"/>\n",
    "</a>"
   ]
  },
  {
   "cell_type": "markdown",
   "id": "a5428b11",
   "metadata": {},
   "source": []
  }
 ],
 "metadata": {
  "language_info": {
   "name": "python"
  }
 },
 "nbformat": 4,
 "nbformat_minor": 5
}
