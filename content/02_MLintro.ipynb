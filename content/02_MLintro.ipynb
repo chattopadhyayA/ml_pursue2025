{
 "cells": [
  {
   "cell_type": "markdown",
   "id": "187ec3f0",
   "metadata": {},
   "source": [
    "# ML Intro\n",
    "\n",
    "<a href=\"https://colab.research.google.com/github/chattopadhyayA/ml_pursue2025/blob/master/content/02_MLintro.ipynb\" target=\"_blank\">\n",
    "  <img src=\"https://colab.research.google.com/assets/colab-badge.svg\" alt=\"Open In Colab\"/>\n",
    "</a>"
   ]
  },
  {
   "cell_type": "markdown",
   "id": "176fd58c",
   "metadata": {},
   "source": []
  }
 ],
 "metadata": {
  "language_info": {
   "name": "python"
  }
 },
 "nbformat": 4,
 "nbformat_minor": 5
}
