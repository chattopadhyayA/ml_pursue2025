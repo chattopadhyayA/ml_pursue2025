{
 "cells": [
  {
   "cell_type": "markdown",
   "id": "93535c82",
   "metadata": {},
   "source": [
    "# Stat Mech\n",
    "\n",
    "[![Open in Colab](https://colab.research.google.com/assets/colab-badge.svg)](https://colab.research.google.com/github/chattopadhyayA/ml_pursue2025/blob/master/content/01_stat.ipynb)"
   ]
  },
  {
   "cell_type": "markdown",
   "id": "9f26b3d9",
   "metadata": {},
   "source": []
  }
 ],
 "metadata": {
  "language_info": {
   "name": "python"
  }
 },
 "nbformat": 4,
 "nbformat_minor": 5
}
