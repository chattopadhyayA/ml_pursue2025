{
 "cells": [
  {
   "cell_type": "markdown",
   "id": "93535c82",
   "metadata": {},
   "source": [
    "# Stat Mech\n",
    "\n",
    "<a href=\"https://colab.research.google.com/github/chattopadhyayA/ml_pursue2025/blob/master/content/01_stat.ipynb\" target=\"_blank\">\n",
    "  <img src=\"https://colab.research.google.com/assets/colab-badge.svg\" alt=\"Open In Colab\"/>\n",
    "</a>"
   ]
  },
  {
   "cell_type": "markdown",
   "id": "9f26b3d9",
   "metadata": {},
   "source": []
  }
 ],
 "metadata": {
  "language_info": {
   "name": "python"
  }
 },
 "nbformat": 4,
 "nbformat_minor": 5
}
