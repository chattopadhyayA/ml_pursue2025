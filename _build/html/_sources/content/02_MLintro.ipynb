{
 "cells": [
  {
   "cell_type": "markdown",
   "id": "187ec3f0",
   "metadata": {},
   "source": [
    "# ML Intro\n",
    "\n",
    "<a href=\"https://colab.research.google.com/github/chattopadhyayA/ml_pursue2025/blob/master/content/02_MLintro.ipynb\" target=\"_blank\">\n",
    "  <img src=\"https://colab.research.google.com/assets/colab-badge.svg\" alt=\"Open In Colab\"/>\n",
    "</a>"
   ]
  },
  {
   "cell_type": "markdown",
   "id": "176fd58c",
   "metadata": {},
   "source": [
    "## <span style=\"color:maroon\"> The Imitation Game </span>\n",
    "The imitation game or the Turing test refers to a test for assesing *machine intelligence*, proposed by the British mathematician and computer scientist Alan Turing in 1950.\n",
    ">\n",
    "> The test is designed to asses a machine's ability to exhibit intelligent behaviour equivalent to, or indistinguishable from that of a human.<br>\n",
    "\n",
    "```{figure} images/imitation.png\n",
    "---\n",
    "height: 300px\n",
    "name:   imitation\n",
    "align:  center\n",
    "---\n",
    "\"Try this game with ChatGPT/DeepSeek\"\n",
    "```"
   ]
  },
  {
   "cell_type": "markdown",
   "id": "edfe6e4e",
   "metadata": {},
   "source": [
    "- **Machine Learning:** Quite crudely, machine learning can be thought of as a collection of tools and techniques that transforms data into decisions (hopefully good!!) by making some form of **classification**, like whether or not someone likes pineapple pizza, or some form of **quantitavive predictions**, like how long can someone run.\n",
    "\n",
    "\n",
    "### Machine Learning Classification\n",
    "\n",
    "One excellent example of classification is the classification tree itself. We will learn more about them soon.\n",
    "\n",
    "```{mermaid}\n",
    "graph TD\n",
    "    B[\"Do you know about decision trees?\"]\n",
    "    B -- Yes --> C[\"Have you implemented decision trees?\"]\n",
    "    C -- Yes --> D[\"Do not read\"]\n",
    "    C -- No --> E[\"Read\"]\n",
    "    B -- No --> F[\"Do you want to learn?\"]\n",
    "    F -- Yes --> G[\"Read\"]\n",
    "    F -- No --> H[\"Do not read.\"]\n",
    "```\n",
    "\n",
    "### Machine Learning Regression\n",
    "\n",
    "Suppose we have a pile of Shoe-size vs Height data, and we want to make some predictions.\n",
    "\n",
    "```{figure} images/lin_reg.png\n",
    "---\n",
    "height: 300px\n",
    "name:   lin_reg\n",
    "align:  center\n",
    "---\n",
    "\"Example: Linear Regression\"\n",
    "```\n"
   ]
  },
  {
   "cell_type": "markdown",
   "id": "978a9661",
   "metadata": {},
   "source": [
    "## <span style=\"color:maroon\"> Different Types of ML </span>\n",
    "\n",
    "- **Supervised ML**\n",
    "\n",
    "> - Linear Regression\n",
    "> - Logistic Regression\n",
    "> - k-nearest neighbors (k-NN) \n",
    "> - Support Vector Machine\n",
    "> - **Decision tree**\n",
    "> - **Neural Networks**\n",
    "\n",
    "- **Unsupervised ML**\n",
    "\n",
    "> - Density estimation\n",
    "> - Clustering maps\n",
    "> - Dimensionality reduction\n",
    "> - Outlier detection\n",
    "\n",
    "- **Re-inforcement Learning**\n",
    "\n",
    "> - Deep-Q learning\n",
    "> - Self-driving car\n",
    "\n",
    "\n",
    "### ❓ Exercise\n",
    "**Q7:** How to stop the Green Squiggle from being the final answer??\n",
    "\n",
    "```{figure} images/wrong_reg.png\n",
    "---\n",
    "height: 300px\n",
    "name:   wrong_reg\n",
    "align:  center\n",
    "---\n",
    "\"Wrong Regression\"\n",
    "```\n",
    "\n",
    "\n",
    "\n",
    "<details>\n",
    "<summary>Click to show answer</summary>\n",
    "\n",
    "Answer: Add some testing point. If the green squiggle is the final answer then the prediction do will do worse for testing points.\n",
    "\n",
    "```{figure} images/test_reg.png\n",
    "---\n",
    "height: 300px\n",
    "name:   test_reg\n",
    "align:  center\n",
    "---\n",
    "\"Correcting Regression\"\n",
    "```\n",
    "\n",
    "</details>\n",
    "\n",
    "\n",
    "---\n",
    "<h4>\n",
    "<center>\n",
    "\n",
    "> <span style=\"color:Blue\"> There are tons of fancy machine learning method and architectures available, like **Deep Learning Convolutional Neural Networks** and what not!!, and each month something new and exciting comes along, but regardless of what we may use, the most important question is to check how it performs with **Testing Data**, or data that it have not seen before. </span> \n",
    "</center> </h4>\n",
    "---\n"
   ]
  },
  {
   "cell_type": "code",
   "execution_count": null,
   "id": "e963e279",
   "metadata": {
    "vscode": {
     "languageId": "plaintext"
    }
   },
   "outputs": [],
   "source": []
  },
  {
   "cell_type": "markdown",
   "id": "e5bc6b50",
   "metadata": {},
   "source": []
  }
 ],
 "metadata": {
  "language_info": {
   "name": "python"
  }
 },
 "nbformat": 4,
 "nbformat_minor": 5
}
