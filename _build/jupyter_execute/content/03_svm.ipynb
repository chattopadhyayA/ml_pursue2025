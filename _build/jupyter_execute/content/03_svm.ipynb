{
 "cells": [
  {
   "cell_type": "markdown",
   "id": "538fd765",
   "metadata": {},
   "source": [
    "# SVM\n",
    "\n",
    "<a href=\"https://colab.research.google.com/github/chattopadhyayA/ml_pursue2025/blob/master/content/03_svm.ipynb\" target=\"_blank\">\n",
    "  <img src=\"https://colab.research.google.com/assets/colab-badge.svg\" alt=\"Open In Colab\"/>\n",
    "</a>"
   ]
  },
  {
   "cell_type": "markdown",
   "id": "e12bba4a",
   "metadata": {},
   "source": []
  }
 ],
 "metadata": {
  "language_info": {
   "name": "python"
  }
 },
 "nbformat": 4,
 "nbformat_minor": 5
}