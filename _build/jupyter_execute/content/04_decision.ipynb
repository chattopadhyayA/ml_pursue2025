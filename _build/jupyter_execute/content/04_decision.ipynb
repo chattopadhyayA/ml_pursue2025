{
 "cells": [
  {
   "cell_type": "markdown",
   "id": "08ee763d",
   "metadata": {},
   "source": [
    "# Decision tree\n",
    "\n",
    "[![Open in Colab](https://colab.research.google.com/assets/colab-badge.svg)](https://colab.research.google.com/github/chattopadhyayA/ml_pursue2025/blob/master/content/04_decision.ipynb)"
   ]
  },
  {
   "cell_type": "markdown",
   "id": "fe65d217",
   "metadata": {},
   "source": []
  }
 ],
 "metadata": {
  "language_info": {
   "name": "python"
  }
 },
 "nbformat": 4,
 "nbformat_minor": 5
}