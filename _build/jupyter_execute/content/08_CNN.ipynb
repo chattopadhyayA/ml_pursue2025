{
 "cells": [
  {
   "cell_type": "markdown",
   "id": "0bc22bf7",
   "metadata": {},
   "source": [
    "# Convolutional Neural Networks"
   ]
  },
  {
   "cell_type": "markdown",
   "id": "a5428b11",
   "metadata": {},
   "source": []
  }
 ],
 "metadata": {
  "language_info": {
   "name": "python"
  }
 },
 "nbformat": 4,
 "nbformat_minor": 5
}