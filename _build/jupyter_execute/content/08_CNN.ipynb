{
 "cells": [
  {
   "cell_type": "markdown",
   "id": "0bc22bf7",
   "metadata": {},
   "source": [
    "# Convolutional Neural Networks\n",
    "\n",
    "<a href=\"https://colab.research.google.com/github/chattopadhyayA/ml_pursue2025/blob/master/content/08_CNN.ipynb\" target=\"_blank\">\n",
    "  <img src=\"https://colab.research.google.com/assets/colab-badge.svg\" alt=\"Open In Colab\"/>\n",
    "</a>"
   ]
  },
  {
   "cell_type": "markdown",
   "id": "8816cb2f",
   "metadata": {},
   "source": [
    "## When to use?\n",
    "\n",
    "Convolutional neural networks are useful, when the data itself have some inherent symmetry. For example in the following figure one can see that there is a clear translational invariance. Question is, if we can exploit this?\n",
    "\n",
    "```{figure} images/same9.png\n",
    "---\n",
    "height: 300px\n",
    "name:   same9\n",
    "align:  center\n",
    "---\n",
    "\"Two same digit from the MNIST dataset\"\n",
    "```\n",
    "---\n",
    "- A **convolution** is a mathematical operation that combines two functions $𝑓$ and $ℎ$, producing a third function $𝑔$, written as:\n",
    "\n",
    "$$\n",
    "g(t)=(f * h)(t) = \\int_{-\\infty}^{\\infty} f(\\tau) \\cdot h(t - \\tau) \\, d\\tau'\n",
    "$$\n",
    "\n",
    "- In physics, convolution is used to calculate Green's function for linear partial differential equations (diffusion, wave equation) and/or signal filtering.\n",
    "\n",
    "- For simple $2D$ images, normally we have to use the discrete version of this function\n",
    "\n",
    "$$\n",
    "(f * h)[i,j] = \\sum_{m}\\sum_{n} f[m,n] \\cdot h(i - m,j-n)\n",
    "$$ \n",
    "\n",
    "---\n",
    "\n",
    "#### Simple Example: **1D discrete Convolution**\n",
    "\n",
    "Let’s say you have a signal 𝑓 and a filter ℎ, the whole process of convolution can be summarised as the following:\n",
    "\n",
    "$$ f = [3,2,1,0]$$\n",
    "\n",
    "$$h=[1,0,-1]$$\n",
    "\n",
    "Now applay convolution:\n",
    "\n",
    "1.   Flip the filter\n",
    "\n",
    "$$h_{flipped}=[-1,0,1]$$\n",
    "\n",
    "\n",
    "2.   Slide the filter across the input and multiply-and-sum at each step:\n",
    "\n",
    "---\n",
    "\n",
    "$$~~~~~~~~~~~~~~~~~~~~~~~~~~~~~~~[\\fbox{3},2,1,0]$$\n",
    "\n",
    "$$~~~~~~~~~~[-1,0,\\fbox{1}]$$\n",
    "\n",
    "$ 3*1=3$\n",
    "\n",
    "---\n",
    "\n",
    "$$~~~~~~~~~~~~~~~~~~~~~~~~~~~~~~~[\\fbox{3},\\fbox{2},1,0]$$\n",
    "\n",
    "$$~~~~~~~~~~~~~~~~~~[-1,\\fbox{0}, \\fbox{1}]$$\n",
    "\n",
    "\n",
    "$ 3*0 + 2*1 =2$\n",
    "\n",
    "---\n",
    "\n",
    "\n",
    "$$~~~~~~~~~~~~~~~~~~~~~~~~~~~~~~~[\\fbox{3},\\fbox{2},\\fbox{1},0]$$\n",
    "\n",
    "\n",
    "$$~~~~~~~~~~~~~~~~~~~~~~~~~~[\\fbox{-1},\\fbox{0},\\fbox{1}]$$\n",
    "\n",
    "\n",
    "$ 3*(-1) + 2*0 + 1*1 =-2$\n",
    "\n",
    "---\n",
    "\n",
    "$$~~~~~~~~~~~~~~~~~~~~~~~~~~~~~~~[3,\\fbox{2},\\fbox{1},\\fbox{0}]$$\n",
    "\n",
    "\n",
    "$$~~~~~~~~~~~~~~~~~~~~~~~~~~~~~~~~~[\\fbox{-1},\\fbox{0},\\fbox{1}]$$\n",
    "\n",
    "\n",
    "$ 2*(-1) + 1*0 + 0*1 =-2$\n",
    "\n",
    "---\n",
    "\n",
    "\n",
    "$$~~~~~~~~~~~~~~~~~~~~~~~~~~~~~~~[3,2,\\fbox{1},\\fbox{0}]$$\n",
    "\n",
    "\n",
    "$$~~~~~~~~~~~~~~~~~~~~~~~~~~~~~~~~~~~~~~~~~[\\fbox{-1},\\fbox{0},1]$$\n",
    "\n",
    "\n",
    "$ 1*(-1) + 0*0  =-1$\n",
    "\n",
    "---\n",
    "\n",
    "\n",
    "$$~~~~~~~~~~~~~~~~~~~~~~~~~~~~~~~[3,2,1,\\fbox{0}]$$\n",
    "\n",
    "\n",
    "$$~~~~~~~~~~~~~~~~~~~~~~~~~~~~~~~~~~~~~~~~~~~~~~~~~[\\fbox{-1},0,1]$$\n",
    "\n",
    "\n",
    "$ 0*(-1)  =0$\n",
    "\n",
    "---\n",
    "\n",
    "Resulting convolved signal:\n",
    "\n",
    "$$f*h= [3,2,-2,-2,-1,0]$$\n",
    "\n"
   ]
  },
  {
   "cell_type": "code",
   "execution_count": 1,
   "id": "5ac10fd1",
   "metadata": {},
   "outputs": [
    {
     "name": "stdout",
     "output_type": "stream",
     "text": [
      "[ 3  2 -2 -2 -1  0]\n"
     ]
    }
   ],
   "source": [
    "import numpy as np\n",
    "\n",
    "a = np.convolve([3,2,1,0],(1,0,-1))\n",
    "\n",
    "print(a)"
   ]
  },
  {
   "cell_type": "markdown",
   "id": "333429c9",
   "metadata": {},
   "source": [
    "\n",
    "---\n",
    "\n",
    "In a convolutional layer the convolution operation is performed as shown in the animation. It slides filters over the input image or previous feature maps to extract patterns like edges, textures, and object parts. In a forward-pass, the filter go through the input in the form of scanning according to its specifications (stride, padding etc.), and for every filter stop a convolution (cross-correlation) operation is performed on the corresponding portion of the input to build one output value."
   ]
  },
  {
   "cell_type": "markdown",
   "id": "42117da4",
   "metadata": {},
   "source": [
    "```{figure} images/2D_Convolution_Animation.gif\n",
    "---\n",
    "height: 300px\n",
    "name:   2D_Convolution_Animation\n",
    "align:  center\n",
    "---\n",
    "\"Image source: https://commons.wikimedia.org/wiki/File:2D_Convolution_Animation.gif\"\n",
    "```"
   ]
  },
  {
   "cell_type": "markdown",
   "id": "44ada547",
   "metadata": {},
   "source": [
    "## Pooling Layer\n",
    "\n",
    "A pooling layer is used in Convolutional Neural Networks (CNNs) to reduce the spatial dimensions (height and width) of feature maps while preserving the most important information. The pooling layer technique use a kernel that goes though the input and extract one value to the output according to type of the pooling layer. \n",
    "\n",
    "![alt text](images/pool.png \"Title\")"
   ]
  },
  {
   "cell_type": "markdown",
   "id": "41889889",
   "metadata": {},
   "source": [
    "The advantages being\n",
    "\n",
    "*   Makes the model faster and lighter,\n",
    "*   Prevents overfitting,\n",
    "*   Helps the model focus on key features, not exact pixel positions.\n",
    "\n",
    "The best explanation of CNN, as I have seen is the [3Blue1Brown](https://www.youtube.com/watch?v=KuXjwB4LzSA&ab_channel=3Blue1Brown) video.\n",
    "\n",
    "![alt text](images/comp_conv.png \"Title\")\n",
    "\n",
    "\n",
    "\n",
    "\n",
    "\n",
    "---"
   ]
  },
  {
   "cell_type": "markdown",
   "id": "12f0e809",
   "metadata": {},
   "source": [
    "## <span style=\"color:maroon\"> CNN Implementation </span>\n",
    "\n",
    "Here we will use the MNIST database of large number of handwritten digits."
   ]
  },
  {
   "cell_type": "code",
   "execution_count": 6,
   "id": "5f9890e2",
   "metadata": {},
   "outputs": [],
   "source": [
    "import torch\n",
    "import torch.nn as nn\n",
    "import torch.optim as optim\n",
    "import torchvision\n",
    "import torchvision.transforms as transforms\n",
    "import torch.nn.functional as F\n",
    "import matplotlib.pyplot as plt\n",
    "\n",
    "# Set manual seed for reproducibility\n",
    "torch.manual_seed(42)\n",
    "\n",
    "# Loading the MNIST dataset, already included with torchvision dataset\n",
    "\n",
    "transform = transforms.Compose([\n",
    "    transforms.ToTensor()\n",
    "])\n",
    "\n",
    "train_set = torchvision.datasets.MNIST(root='./data', train=True, download=True, transform=transform)\n",
    "train_loader = torch.utils.data.DataLoader(train_set, batch_size=64, shuffle=True)\n",
    "\n",
    "test_set = torchvision.datasets.MNIST(root='./data', train=False, download=True, transform=transform)\n",
    "test_loader = torch.utils.data.DataLoader(test_set, batch_size=1000, shuffle=False)\n"
   ]
  },
  {
   "cell_type": "code",
   "execution_count": 7,
   "id": "14371ffe",
   "metadata": {},
   "outputs": [
    {
     "data": {
      "image/png": "[encoded data removed]",
      "text/plain": [
       "<Figure size 432x288 with 1 Axes>"
      ]
     },
     "metadata": {
      "needs_background": "light"
     },
     "output_type": "display_data"
    },
    {
     "name": "stdout",
     "output_type": "stream",
     "text": [
      "torch.Size([1, 28, 28])\n"
     ]
    }
   ],
   "source": [
    "# Show a single image\n",
    "def show_image(img, title=\"\"):\n",
    "    img = img.squeeze()\n",
    "    plt.imshow(img, cmap='gray')\n",
    "    plt.title(title)\n",
    "    plt.axis('off')\n",
    "    plt.show()\n",
    "\n",
    "test_image, test_label = test_set[3]\n",
    "show_image(test_image, title=\"original label={}\".format(test_label))\n",
    "print(test_image.shape)\n"
   ]
  },
  {
   "cell_type": "code",
   "execution_count": 8,
   "id": "c5b09946",
   "metadata": {},
   "outputs": [],
   "source": [
    "# Simple CNN model\n",
    "\n",
    "class SimpleCNN(nn.Module):\n",
    "    def __init__(self):\n",
    "        super().__init__()\n",
    "\n",
    "        # conv1: Input channels = 1 (grayscale), Output channels = 4, Kernel size = 3x3\n",
    "        # Input image: 28x28 -> Output: (28 - 3 + 1) = 26x26\n",
    "        self.conv1 = nn.Conv2d(in_channels=1, out_channels=4, kernel_size=3)\n",
    "\n",
    "        # MaxPool1: 2x2 pooling reduces 26x26 to 13x13\n",
    "        self.pool1 = nn.MaxPool2d(kernel_size=2, stride=2)\n",
    "\n",
    "        # conv2: Input channels = 4, Output channels = 8, Kernel size = 3x3\n",
    "        # Input: 13x13 -> Output: (13 - 3 + 1) = 11x11\n",
    "        self.conv2 = nn.Conv2d(in_channels=4, out_channels=8, kernel_size=3)\n",
    "\n",
    "        # MaxPool2: 2x2 pooling reduces 11x11 to 5x5\n",
    "        self.pool2 = nn.MaxPool2d(kernel_size=2, stride=2)\n",
    "\n",
    "        # Fully Connected (FC) Layer: Input = 8 feature maps * 5 * 5 = 200\n",
    "        # Output = 10 classes (e.g., MNIST digits)\n",
    "        self.fc = nn.Linear(in_features=8 * 5 * 5, out_features=10)\n",
    "\n",
    "    def forward(self, x):\n",
    "        x = self.pool1(F.relu(self.conv1(x)))  # Shape: [batch, 4, 13, 13]\n",
    "        x = self.pool2(F.relu(self.conv2(x)))  # Shape: [batch, 8, 5, 5]\n",
    "        x = x.view(-1, 8 * 5 * 5)              # Flatten to [batch, 200]\n",
    "        x = self.fc(x)                         # Output: [batch, 10]\n",
    "        return x\n",
    "\n"
   ]
  },
  {
   "cell_type": "code",
   "execution_count": 9,
   "id": "46b6098b",
   "metadata": {},
   "outputs": [
    {
     "name": "stdout",
     "output_type": "stream",
     "text": [
      "Training the CNN...\n",
      "Epoch 1 - Loss: 420.520\n",
      "Epoch 2 - Loss: 143.036\n",
      "Epoch 3 - Loss: 112.597\n",
      "Epoch 4 - Loss: 96.404\n",
      "Epoch 5 - Loss: 86.154\n",
      "Epoch 6 - Loss: 79.574\n",
      "Epoch 7 - Loss: 73.306\n",
      "Epoch 8 - Loss: 69.770\n",
      "Epoch 9 - Loss: 66.393\n",
      "Epoch 10 - Loss: 62.597\n"
     ]
    }
   ],
   "source": [
    "# Here goes the training\n",
    "model = SimpleCNN()\n",
    "criterion = nn.CrossEntropyLoss()\n",
    "optimizer = optim.Adam(model.parameters(), lr=0.001)\n",
    "\n",
    "print(\"Training the CNN...\")\n",
    "for epoch in range(10):  # few epochs for demonstration\n",
    "    running_loss = 0.0\n",
    "    for images, labels in train_loader:\n",
    "        optimizer.zero_grad()\n",
    "        outputs = model(images)\n",
    "        loss = criterion(outputs, labels)\n",
    "        loss.backward()\n",
    "        optimizer.step()\n",
    "        running_loss += loss.item()\n",
    "    print(f\"Epoch {epoch+1} - Loss: {running_loss:.3f}\")\n"
   ]
  },
  {
   "cell_type": "code",
   "execution_count": 10,
   "id": "65c84624",
   "metadata": {},
   "outputs": [],
   "source": [
    "# Get one test image\n",
    "test_image, test_label = test_set[0]\n",
    "input_image = test_image.unsqueeze(0)  # add batch dim: [1, 1, 28, 28]\n",
    "\n",
    "# Run through model\n",
    "model.eval()\n",
    "with torch.no_grad():\n",
    "    x1 = torch.relu(model.conv1(input_image))\n",
    "    x2 = model.pool1(x1)\n",
    "\n",
    "    x3 = torch.relu(model.conv2(x2))\n",
    "    x4 = model.pool2(x3)\n",
    "\n",
    "    flat = x4.view(-1, 8 * 5 * 5)\n",
    "    logits = model.fc(flat)\n",
    "    probs = torch.softmax(logits, dim=1)\n",
    "    prediction = probs.argmax(dim=1).item()\n"
   ]
  },
  {
   "cell_type": "code",
   "execution_count": 11,
   "id": "1b0c5f9f",
   "metadata": {},
   "outputs": [
    {
     "name": "stdout",
     "output_type": "stream",
     "text": [
      "True Label: 7 | Predicted: 7\n"
     ]
    },
    {
     "data": {
      "image/png": "[encoded data removed]",
      "text/plain": [
       "<Figure size 432x288 with 1 Axes>"
      ]
     },
     "metadata": {
      "needs_background": "light"
     },
     "output_type": "display_data"
    },
    {
     "data": {
      "image/png": "[encoded data removed]",
      "text/plain": [
       "<Figure size 1080x216 with 4 Axes>"
      ]
     },
     "metadata": {
      "needs_background": "light"
     },
     "output_type": "display_data"
    },
    {
     "data": {
      "image/png": "[encoded data removed]",
      "text/plain": [
       "<Figure size 1080x216 with 8 Axes>"
      ]
     },
     "metadata": {
      "needs_background": "light"
     },
     "output_type": "display_data"
    }
   ],
   "source": [
    "# Showing the original one\n",
    "\n",
    "print(f\"True Label: {test_label} | Predicted: {prediction}\")\n",
    "show_image(test_image, title=\"Original Input Image\")\n",
    "\n",
    "# Feature map visualisation\n",
    "\n",
    "def show_feature_maps(tensor, title=\"\"):\n",
    "    tensor = tensor.squeeze()\n",
    "    num_maps = tensor.shape[0]\n",
    "    fig, axes = plt.subplots(1, num_maps, figsize=(15, 3))\n",
    "    for i in range(num_maps):\n",
    "        axes[i].imshow(tensor[i], cmap='viridis')\n",
    "        axes[i].set_title(f\"Map {i}\")\n",
    "        axes[i].axis('off')\n",
    "    plt.suptitle(title)\n",
    "    plt.show()\n",
    "\n",
    "show_feature_maps(x1, \"Conv1 Feature Maps\")\n",
    "show_feature_maps(x3, \"Conv2 Feature Maps\")\n"
   ]
  },
  {
   "cell_type": "code",
   "execution_count": 12,
   "id": "314ac392",
   "metadata": {},
   "outputs": [
    {
     "data": {
      "image/png": "[encoded data removed]",
      "text/plain": [
       "<Figure size 864x216 with 4 Axes>"
      ]
     },
     "metadata": {
      "needs_background": "light"
     },
     "output_type": "display_data"
    },
    {
     "data": {
      "image/png": "[encoded data removed]",
      "text/plain": [
       "<Figure size 864x216 with 8 Axes>"
      ]
     },
     "metadata": {
      "needs_background": "light"
     },
     "output_type": "display_data"
    }
   ],
   "source": [
    "\n",
    "# Visualising the filter itself\n",
    "\n",
    "def show_conv_filters(conv_layer, title=\"\"):\n",
    "    weights = conv_layer.weight.data.clone()\n",
    "    num_filters = weights.shape[0]\n",
    "    fig, axes = plt.subplots(1, num_filters, figsize=(12, 3))\n",
    "    for i in range(num_filters):\n",
    "        axes[i].imshow(weights[i, 0], cmap='gray')\n",
    "        axes[i].set_title(f\"Filter {i}\")\n",
    "        axes[i].axis('off')\n",
    "    plt.suptitle(title)\n",
    "    plt.show()\n",
    "\n",
    "show_conv_filters(model.conv1, \"Conv1 Filters\")\n",
    "show_conv_filters(model.conv2, \"Conv2 Filters\")\n"
   ]
  },
  {
   "cell_type": "markdown",
   "id": "a5428b11",
   "metadata": {},
   "source": []
  }
 ],
 "metadata": {
  "kernelspec": {
   "display_name": "jarvis",
   "language": "python",
   "name": "python3"
  },
  "language_info": {
   "codemirror_mode": {
    "name": "ipython",
    "version": 3
   },
   "file_extension": ".py",
   "mimetype": "text/x-python",
   "name": "python",
   "nbconvert_exporter": "python",
   "pygments_lexer": "ipython3",
   "version": "3.9.0"
  }
 },
 "nbformat": 4,
 "nbformat_minor": 5
}