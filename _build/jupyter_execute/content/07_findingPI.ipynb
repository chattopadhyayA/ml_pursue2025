{
 "cells": [
  {
   "cell_type": "markdown",
   "id": "06615213",
   "metadata": {},
   "source": [
    "# Finding PI"
   ]
  },
  {
   "cell_type": "markdown",
   "id": "a539b4d2",
   "metadata": {},
   "source": []
  }
 ],
 "metadata": {
  "language_info": {
   "name": "python"
  }
 },
 "nbformat": 4,
 "nbformat_minor": 5
}