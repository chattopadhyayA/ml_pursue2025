{
 "cells": [
  {
   "cell_type": "markdown",
   "id": "06615213",
   "metadata": {},
   "source": [
    "# Finding PI\n",
    "[![Open in Colab](https://colab.research.google.com/assets/colab-badge.svg)](https://colab.research.google.com/github/chattopadhyayA/ml_pursue2025/blob/master/content/07_findingPI.ipynb)"
   ]
  },
  {
   "cell_type": "markdown",
   "id": "a539b4d2",
   "metadata": {},
   "source": []
  }
 ],
 "metadata": {
  "language_info": {
   "name": "python"
  }
 },
 "nbformat": 4,
 "nbformat_minor": 5
}