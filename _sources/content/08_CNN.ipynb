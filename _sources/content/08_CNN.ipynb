{
 "cells": [
  {
   "cell_type": "markdown",
   "id": "0bc22bf7",
   "metadata": {},
   "source": [
    "# Convolutional Neural Networks\n",
    "\n",
    "<a href=\"https://colab.research.google.com/github/chattopadhyayA/ml_pursue2025/blob/master/content/08_CNN.ipynb\" target=\"_blank\">\n",
    "  <img src=\"https://colab.research.google.com/assets/colab-badge.svg\" alt=\"Open In Colab\"/>\n",
    "</a>"
   ]
  },
  {
   "cell_type": "markdown",
   "id": "42117da4",
   "metadata": {},
   "source": [
    "```{figure} images/2D_Convolution_Animation.gif\n",
    "---\n",
    "height: 300px\n",
    "name:   2D_Convolution_Animation\n",
    "align:  center\n",
    "---\n",
    "\"Image source: https://commons.wikimedia.org/wiki/File:2D_Convolution_Animation.gif\"\n",
    "```"
   ]
  },
  {
   "cell_type": "code",
   "execution_count": 1,
   "id": "5f9890e2",
   "metadata": {},
   "outputs": [
    {
     "name": "stderr",
     "output_type": "stream",
     "text": [
      "100%|██████████| 9.91M/9.91M [00:08<00:00, 1.16MB/s]\n",
      "100%|██████████| 28.9k/28.9k [00:00<00:00, 682kB/s]\n",
      "100%|██████████| 1.65M/1.65M [00:18<00:00, 90.3kB/s]\n",
      "100%|██████████| 4.54k/4.54k [00:00<00:00, 126kB/s]\n"
     ]
    }
   ],
   "source": [
    "import torch\n",
    "import torch.nn as nn\n",
    "import torch.optim as optim\n",
    "import torchvision\n",
    "import torchvision.transforms as transforms\n",
    "import matplotlib.pyplot as plt\n",
    "\n",
    "# Set manual seed for reproducibility\n",
    "torch.manual_seed(0)\n",
    "\n",
    "# -----------------------------\n",
    "# 1. Load the MNIST Dataset\n",
    "# -----------------------------\n",
    "transform = transforms.Compose([\n",
    "    transforms.ToTensor()\n",
    "])\n",
    "\n",
    "train_set = torchvision.datasets.MNIST(root='./data', train=True, download=True, transform=transform)\n",
    "train_loader = torch.utils.data.DataLoader(train_set, batch_size=64, shuffle=True)\n",
    "\n",
    "test_set = torchvision.datasets.MNIST(root='./data', train=False, download=True, transform=transform)\n",
    "test_loader = torch.utils.data.DataLoader(test_set, batch_size=1000, shuffle=False)\n"
   ]
  },
  {
   "cell_type": "code",
   "execution_count": 17,
   "id": "14371ffe",
   "metadata": {},
   "outputs": [
    {
     "data": {
      "image/png": "[encoded data removed]",
      "text/plain": [
       "<Figure size 432x288 with 1 Axes>"
      ]
     },
     "metadata": {
      "needs_background": "light"
     },
     "output_type": "display_data"
    }
   ],
   "source": [
    "# Show a single image\n",
    "def show_image(img, title=\"\"):\n",
    "    img = img.squeeze()\n",
    "    plt.imshow(img, cmap='gray')\n",
    "    plt.title(title)\n",
    "    plt.axis('off')\n",
    "    plt.show()\n",
    "\n",
    "test_image, test_label = test_set[3]\n",
    "show_image(test_image, title=\"original label={}\".format(test_label))\n"
   ]
  },
  {
   "cell_type": "code",
   "execution_count": 18,
   "id": "c5b09946",
   "metadata": {},
   "outputs": [],
   "source": [
    "# -----------------------------\n",
    "# 2. Define the Simple CNN Model\n",
    "# -----------------------------\n",
    "class SimpleCNN(nn.Module):\n",
    "    def __init__(self):\n",
    "        super().__init__()\n",
    "        self.conv1 = nn.Conv2d(1, 4, 3)  # 28x28 -> 26x26\n",
    "        self.pool1 = nn.MaxPool2d(2, 2)  # 26x26 -> 13x13\n",
    "\n",
    "        self.conv2 = nn.Conv2d(4, 8, 3)  # 13x13 -> 11x11\n",
    "        self.pool2 = nn.MaxPool2d(2, 2)  # 11x11 -> 5x5\n",
    "\n",
    "        self.fc = nn.Linear(8 * 5 * 5, 10)  # final output layer\n",
    "\n",
    "    def forward(self, x):\n",
    "        x = self.pool1(torch.relu(self.conv1(x)))  # -> [4, 13, 13]\n",
    "        x = self.pool2(torch.relu(self.conv2(x)))  # -> [8, 5, 5]\n",
    "        x = x.view(-1, 8 * 5 * 5)  # flatten\n",
    "        x = self.fc(x)  # final logits\n",
    "        return x\n"
   ]
  },
  {
   "cell_type": "code",
   "execution_count": 19,
   "id": "46b6098b",
   "metadata": {},
   "outputs": [
    {
     "name": "stdout",
     "output_type": "stream",
     "text": [
      "Training the CNN...\n",
      "Epoch 1 - Loss: 436.432\n",
      "Epoch 2 - Loss: 128.635\n",
      "Epoch 3 - Loss: 97.437\n",
      "Epoch 4 - Loss: 85.580\n",
      "Epoch 5 - Loss: 78.195\n",
      "Epoch 6 - Loss: 72.594\n",
      "Epoch 7 - Loss: 68.360\n",
      "Epoch 8 - Loss: 65.340\n",
      "Epoch 9 - Loss: 62.714\n",
      "Epoch 10 - Loss: 60.999\n"
     ]
    }
   ],
   "source": [
    "# -----------------------------\n",
    "# 3. Training the CNN\n",
    "# -----------------------------\n",
    "model = SimpleCNN()\n",
    "criterion = nn.CrossEntropyLoss()\n",
    "optimizer = optim.Adam(model.parameters(), lr=0.001)\n",
    "\n",
    "print(\"Training the CNN...\")\n",
    "for epoch in range(10):  # few epochs for demonstration\n",
    "    running_loss = 0.0\n",
    "    for images, labels in train_loader:\n",
    "        optimizer.zero_grad()\n",
    "        outputs = model(images)\n",
    "        loss = criterion(outputs, labels)\n",
    "        loss.backward()\n",
    "        optimizer.step()\n",
    "        running_loss += loss.item()\n",
    "    print(f\"Epoch {epoch+1} - Loss: {running_loss:.3f}\")\n"
   ]
  },
  {
   "cell_type": "code",
   "execution_count": 20,
   "id": "65c84624",
   "metadata": {},
   "outputs": [],
   "source": [
    "\n",
    "# -----------------------------\n",
    "# 4. Testing + Visualizing One Sample\n",
    "# -----------------------------\n",
    "# Get one test image\n",
    "test_image, test_label = test_set[0]\n",
    "input_image = test_image.unsqueeze(0)  # add batch dim: [1, 1, 28, 28]\n",
    "\n",
    "# Run through model\n",
    "model.eval()\n",
    "with torch.no_grad():\n",
    "    x1 = torch.relu(model.conv1(input_image))\n",
    "    x2 = model.pool1(x1)\n",
    "\n",
    "    x3 = torch.relu(model.conv2(x2))\n",
    "    x4 = model.pool2(x3)\n",
    "\n",
    "    flat = x4.view(-1, 8 * 5 * 5)\n",
    "    logits = model.fc(flat)\n",
    "    probs = torch.softmax(logits, dim=1)\n",
    "    prediction = probs.argmax(dim=1).item()\n"
   ]
  },
  {
   "cell_type": "code",
   "execution_count": 21,
   "id": "1b0c5f9f",
   "metadata": {},
   "outputs": [
    {
     "name": "stdout",
     "output_type": "stream",
     "text": [
      "True Label: 7 | Predicted: 7\n"
     ]
    },
    {
     "data": {
      "image/png": "[encoded data removed]",
      "text/plain": [
       "<Figure size 432x288 with 1 Axes>"
      ]
     },
     "metadata": {
      "needs_background": "light"
     },
     "output_type": "display_data"
    },
    {
     "data": {
      "image/png": "[encoded data removed]",
      "text/plain": [
       "<Figure size 1080x216 with 4 Axes>"
      ]
     },
     "metadata": {
      "needs_background": "light"
     },
     "output_type": "display_data"
    },
    {
     "data": {
      "image/png": "[encoded data removed]",
      "text/plain": [
       "<Figure size 1080x216 with 8 Axes>"
      ]
     },
     "metadata": {
      "needs_background": "light"
     },
     "output_type": "display_data"
    }
   ],
   "source": [
    "\n",
    "# -----------------------------\n",
    "# 5. Show Original Image\n",
    "# -----------------------------\n",
    "print(f\"True Label: {test_label} | Predicted: {prediction}\")\n",
    "show_image(test_image, title=\"Original Input Image\")\n",
    "\n",
    "# -----------------------------\n",
    "# 6. Visualize Feature Maps (Conv Layers)\n",
    "# -----------------------------\n",
    "def show_feature_maps(tensor, title=\"\"):\n",
    "    tensor = tensor.squeeze()\n",
    "    num_maps = tensor.shape[0]\n",
    "    fig, axes = plt.subplots(1, num_maps, figsize=(15, 3))\n",
    "    for i in range(num_maps):\n",
    "        axes[i].imshow(tensor[i], cmap='viridis')\n",
    "        axes[i].set_title(f\"Map {i}\")\n",
    "        axes[i].axis('off')\n",
    "    plt.suptitle(title)\n",
    "    plt.show()\n",
    "\n",
    "show_feature_maps(x1, \"Conv1 Feature Maps\")\n",
    "show_feature_maps(x3, \"Conv2 Feature Maps\")\n"
   ]
  },
  {
   "cell_type": "code",
   "execution_count": 22,
   "id": "314ac392",
   "metadata": {},
   "outputs": [
    {
     "data": {
      "image/png": "[encoded data removed]",
      "text/plain": [
       "<Figure size 864x216 with 4 Axes>"
      ]
     },
     "metadata": {
      "needs_background": "light"
     },
     "output_type": "display_data"
    },
    {
     "data": {
      "image/png": "[encoded data removed]",
      "text/plain": [
       "<Figure size 864x216 with 8 Axes>"
      ]
     },
     "metadata": {
      "needs_background": "light"
     },
     "output_type": "display_data"
    }
   ],
   "source": [
    "\n",
    "# -----------------------------\n",
    "# 7. Visualize Filters (Conv Weights)\n",
    "# -----------------------------\n",
    "def show_conv_filters(conv_layer, title=\"\"):\n",
    "    weights = conv_layer.weight.data.clone()\n",
    "    num_filters = weights.shape[0]\n",
    "    fig, axes = plt.subplots(1, num_filters, figsize=(12, 3))\n",
    "    for i in range(num_filters):\n",
    "        axes[i].imshow(weights[i, 0], cmap='gray')\n",
    "        axes[i].set_title(f\"Filter {i}\")\n",
    "        axes[i].axis('off')\n",
    "    plt.suptitle(title)\n",
    "    plt.show()\n",
    "\n",
    "show_conv_filters(model.conv1, \"Conv1 Filters\")\n",
    "show_conv_filters(model.conv2, \"Conv2 Filters\")\n"
   ]
  },
  {
   "cell_type": "markdown",
   "id": "a5428b11",
   "metadata": {},
   "source": []
  }
 ],
 "metadata": {
  "kernelspec": {
   "display_name": "jarvis",
   "language": "python",
   "name": "python3"
  },
  "language_info": {
   "codemirror_mode": {
    "name": "ipython",
    "version": 3
   },
   "file_extension": ".py",
   "mimetype": "text/x-python",
   "name": "python",
   "nbconvert_exporter": "python",
   "pygments_lexer": "ipython3",
   "version": "3.9.0"
  }
 },
 "nbformat": 4,
 "nbformat_minor": 5
}
